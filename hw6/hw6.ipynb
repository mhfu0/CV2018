{
 "cells": [
  {
   "cell_type": "code",
   "execution_count": 22,
   "metadata": {},
   "outputs": [],
   "source": [
    "import numpy as np\n",
    "import matplotlib.pyplot as plt\n",
    "import cv2\n",
    "\n",
    "import sys"
   ]
  },
  {
   "cell_type": "code",
   "execution_count": 2,
   "metadata": {},
   "outputs": [],
   "source": [
    "def binarize(img):\n",
    "    new_img = np.zeros(img.shape, np.int)\n",
    "    for i in range(img.shape[0]):\n",
    "        for j in range(img.shape[1]):\n",
    "            new_img[i, j] = 255 if img[i, j] >= 128 else 0\n",
    "    return new_img"
   ]
  },
  {
   "cell_type": "code",
   "execution_count": 35,
   "metadata": {},
   "outputs": [],
   "source": [
    "class YokoiNumber(object):\n",
    "    def __init__(self, bin_image):\n",
    "        self.bin_image = bin_image\n",
    "        self.size = bin_image.shape\n",
    "        self.yokoi_array = None\n",
    "        \n",
    "    def h(self, b, c, d, e):\n",
    "        if b == c and (d != b or e != b): return 'q'\n",
    "        elif b == c and (d == b and e == b): return 'r'\n",
    "        else: return 's'\n",
    "    \n",
    "    def f(self, a1, a2, a3, a4):\n",
    "        a_tuple = [a1, a2, a3, a4]\n",
    "        if all([a == 'r' for a in a_tuple]): return 5\n",
    "        else: return sum([int(a == 'q') for a in a_tuple])\n",
    "    \n",
    "    def iterate(self):\n",
    "        self.yokoi_array = -np.ones(self.size, np.int)\n",
    "        for r in range(self.size[0]):\n",
    "            for c in range(self.size[1]):\n",
    "                if self.bin_image[r, c] == 0:\n",
    "                    continue\n",
    "                \n",
    "                # define neighborhood from x0 to x8\n",
    "                x0 = self.bin_image[r, c]\n",
    "                x1 = self.bin_image[r, c+1] if c != self.size[1]-1 else 0\n",
    "                x2 = self.bin_image[r-1, c] if r != 0 else 0\n",
    "                x3 = self.bin_image[r, c-1] if c != 0 else 0\n",
    "                x4 = self.bin_image[r+1, c] if r != self.size[0]-1 else 0\n",
    "                x5 = self.bin_image[r+1, c+1] if r != self.size[0]-1 and c != self.size[1]-1 else 0\n",
    "                x6 = self.bin_image[r-1, c+1] if r != 0 and c != self.size[1]-1 else 0\n",
    "                x7 = self.bin_image[r-1, c-1] if r != 0 and c != 0 else 0\n",
    "                x8 = self.bin_image[r+1, c-1] if r != self.size[0]-1 and c != 0 else 0\n",
    "                \n",
    "                # calculate h value\n",
    "                a1 = self.h(x0, x1, x6, x2)\n",
    "                a2 = self.h(x0, x2, x7, x3)\n",
    "                a3 = self.h(x0, x3, x8, x4)\n",
    "                a4 = self.h(x0, x4, x5, x1)\n",
    "                \n",
    "                self.yokoi_array[r, c] = self.f(a1, a2, a3, a4)\n",
    "    \n",
    "    def pprint(self, file=sys.stdout):\n",
    "        for r in range(self.size[0]):\n",
    "            for c in range(self.size[1]):\n",
    "                if self.yokoi_array[r, c] <= 0:\n",
    "                    file.write(' ')\n",
    "                else:\n",
    "                    file.write(str(self.yokoi_array[r,c]))\n",
    "            file.write('\\n')"
   ]
  },
  {
   "cell_type": "code",
   "execution_count": 10,
   "metadata": {},
   "outputs": [],
   "source": [
    "image = cv2.imread('../lena.bmp', 0)\n",
    "downsampled_image = image[::8, ::8]\n",
    "\n",
    "bin_image = binarize(downsampled_image)"
   ]
  },
  {
   "cell_type": "code",
   "execution_count": 36,
   "metadata": {},
   "outputs": [],
   "source": [
    "yokoi = YokoiNumber(bin_image)\n",
    "yokoi.iterate()"
   ]
  },
  {
   "cell_type": "code",
   "execution_count": 39,
   "metadata": {},
   "outputs": [],
   "source": [
    "yokoi.pprint(file=open('yokoi.txt', 'w'))"
   ]
  },
  {
   "cell_type": "code",
   "execution_count": null,
   "metadata": {},
   "outputs": [],
   "source": []
  }
 ],
 "metadata": {
  "kernelspec": {
   "display_name": "Python 3",
   "language": "python",
   "name": "python3"
  },
  "language_info": {
   "codemirror_mode": {
    "name": "ipython",
    "version": 3
   },
   "file_extension": ".py",
   "mimetype": "text/x-python",
   "name": "python",
   "nbconvert_exporter": "python",
   "pygments_lexer": "ipython3",
   "version": "3.6.4"
  }
 },
 "nbformat": 4,
 "nbformat_minor": 2
}
